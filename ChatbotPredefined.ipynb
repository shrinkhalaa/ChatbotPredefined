{
  "nbformat": 4,
  "nbformat_minor": 0,
  "metadata": {
    "colab": {
      "provenance": []
    },
    "kernelspec": {
      "name": "python3",
      "display_name": "Python 3"
    },
    "language_info": {
      "name": "python"
    }
  },
  "cells": [
    {
      "cell_type": "code",
      "source": [
        "import nltk\n",
        "import re\n",
        "import random\n",
        "import string\n",
        "from string import punctuation"
      ],
      "metadata": {
        "id": "rlyxfMnqx_gU"
      },
      "execution_count": 2,
      "outputs": []
    },
    {
      "cell_type": "code",
      "source": [
        "# Download stopwords from nltk\n",
        "nltk.download('punkt')\n",
        "nltk.download('stopwords')\n",
        "stop_words = set(nltk.corpus.stopwords.words('english'))\n",
        "\n",
        "def sentence_tokenizer(data):\n",
        "   # Function for Sentence Tokenization\n",
        "   return nltk.sent_tokenize(data.lower())\n",
        "\n",
        "def word_tokenizer(data):\n",
        "   # Function for Word Tokenization\n",
        "   return nltk.word_tokenize(data.lower())\n",
        "\n",
        "def remove_noise(word_tokens):\n",
        "   # Function to remove stop words and punctuation\n",
        "   cleaned_tokens = []\n",
        "   for token in word_tokens:\n",
        "      if token not in stop_words and token not in punctuation:\n",
        "         cleaned_tokens.append(token)\n",
        "   return cleaned_tokens"
      ],
      "metadata": {
        "colab": {
          "base_uri": "https://localhost:8080/"
        },
        "id": "hE9rYi5PyDcH",
        "outputId": "3514b6ad-20ed-4834-df52-3e51b14d98e0"
      },
      "execution_count": 3,
      "outputs": [
        {
          "output_type": "stream",
          "name": "stderr",
          "text": [
            "[nltk_data] Downloading package punkt to /root/nltk_data...\n",
            "[nltk_data]   Unzipping tokenizers/punkt.zip.\n",
            "[nltk_data] Downloading package stopwords to /root/nltk_data...\n",
            "[nltk_data]   Unzipping corpora/stopwords.zip.\n"
          ]
        }
      ]
    },
    {
      "cell_type": "code",
      "source": [
        "import re\n",
        "import random\n",
        "\n",
        "# Define the Patterns and Responses\n",
        "patterns = [\n",
        "   (r'which is the blackhole at the center of milky way\\?', ['Sagittarius A*']),\n",
        "   (r'which color is the sun\\?', ['White']),\n",
        "   (r'which galaxy are we in\\?', ['Milky way galaxy']),\n",
        "   (r'what are blackholes\\?', ['A black hole is so dense that gravity just beneath its surface, the event horizon, is strong enough that nothing – not even light – can escape.']),\n",
        "   (r'do you know about astronomy\\?', ['A little']),\n",
        "   (r'what is your favourite color\\?', ['I am a computer, of course I love RGB all the same hahaha']),\n",
        "   (r'hi|hello|hey', ['Hi there!', 'Hello!', 'Hey!']),\n",
        "   (r'bye|goodbye', ['Bye', 'Goodbye!']),\n",
        "   (r'\\?', ['I’m sorry, but I can’t answer that', 'Please ask me another question', 'I’m not sure what you mean.']),\n",
        "   (r'.*', ['Yes, go on', 'Tell me more', 'I’m listening...']) # Default response pattern\n",
        "]\n",
        "\n",
        "# Function to generate response for the user input\n",
        "def generate_response(user_input):\n",
        "   conversation_history.append(user_input)\n",
        "   for pattern, responses in patterns:\n",
        "      if re.fullmatch(pattern, user_input, re.IGNORECASE):\n",
        "         return random.choice(responses)\n",
        "   return \"I don't understand.\"\n",
        "\n",
        "# Main loop of chatbot\n",
        "conversation_history = []\n",
        "while True:\n",
        "   user_input = input(\"You: \")\n",
        "   if user_input.lower() in ['bye', 'goodbye']:\n",
        "      print('Chatbot: Goodbye!')\n",
        "      break\n",
        "   chatbot_response = generate_response(user_input)\n",
        "   print('Chatbot:', chatbot_response)\n",
        "\n"
      ],
      "metadata": {
        "colab": {
          "base_uri": "https://localhost:8080/"
        },
        "id": "9SzsBjENyIjc",
        "outputId": "ee00dcdf-b47b-497b-961f-f3fb881b33c3"
      },
      "execution_count": 8,
      "outputs": [
        {
          "output_type": "stream",
          "name": "stdout",
          "text": [
            "You: hi\n",
            "Chatbot: Hello!\n",
            "You: Do you know about astronomy?\n",
            "Chatbot: A little\n",
            "You: Which color is the sun?\n",
            "Chatbot: White\n",
            "You: what is your favourite color?\n",
            "Chatbot: I am a computer, of course I love RGB all the same hahaha\n",
            "You: Which galaxy are we in?\n",
            "Chatbot: Milky way galaxy\n",
            "You: which is the blackhole at the center of milky way?\n",
            "Chatbot: Sagittarius A*\n",
            "You: bye\n",
            "Chatbot: Goodbye!\n"
          ]
        }
      ]
    },
    {
      "cell_type": "code",
      "source": [
        "import nltk\n",
        "import re\n",
        "import random\n",
        "import string\n",
        "\n",
        "from string import punctuation\n",
        "\n",
        "# Download stopwords from nltk\n",
        "nltk.download('punkt')\n",
        "nltk.download('stopwords')\n",
        "stop_words = set(nltk.corpus.stopwords.words('english'))\n",
        "\n",
        "def word_tokenizer(data):\n",
        "    # Function for Word Tokenization\n",
        "    return nltk.word_tokenize(data.lower())\n",
        "\n",
        "def remove_noise(word_tokens):\n",
        "    # Function to remove stop words and punctuation\n",
        "    cleaned_tokens = []\n",
        "    for token in word_tokens:\n",
        "        if token not in stop_words and token not in punctuation:\n",
        "            cleaned_tokens.append(token)\n",
        "    return cleaned_tokens\n",
        "\n",
        "# Define the Patterns and Responses\n",
        "patterns = [\n",
        "    (r'which is the blackhole at the center of milky way\\?', ['Sagittarius A*']),\n",
        "    (r'which color is the sun\\?', ['White']),\n",
        "    (r'which galaxy are we in\\?', ['Milky way galaxy']),\n",
        "    (r'what are blackholes\\?', ['A black hole is so dense that gravity just beneath its surface, the event horizon, is strong enough that nothing – not even light – can escape.']),\n",
        "    (r'do you know about astronomy\\?', ['A little']),\n",
        "    (r'what is your favourite color\\?', ['I am a computer, of course I love RGB all the same hahaha']),\n",
        "    (r'hi|hello|hey', ['Hi there!', 'Hello!', 'Hey!']),\n",
        "    (r'bye|goodbye', ['Bye', 'Goodbye!']),\n",
        "    (r'.*', ['I’m sorry, but I can’t answer that', 'Please ask me another question', 'I’m not sure what you mean.']) # Default response pattern\n",
        "]\n",
        "\n",
        "# Function to generate response for the user input\n",
        "def generate_response(user_input):\n",
        "    # Match user input to a pattern and get appropriate response\n",
        "    for pattern, responses in patterns:\n",
        "        if re.fullmatch(pattern, user_input, re.IGNORECASE):\n",
        "            return random.choice(responses)\n",
        "    # Fallback response (should not be needed due to default pattern)\n",
        "    return \"I don't understand.\"\n",
        "\n",
        "# Main loop of chatbot\n",
        "conversation_history = []\n",
        "while True:\n",
        "    # User Input\n",
        "    user_input = input(\"You: \")\n",
        "    # End the Loop if the User Says Bye or Goodbye\n",
        "    if user_input.lower() in ['bye', 'goodbye']:\n",
        "        print('Chatbot: Goodbye!')\n",
        "        break\n",
        "    # Tokenize the User Input (not strictly necessary for pattern matching, but kept for potential use)\n",
        "    user_input_tokenized = word_tokenizer(user_input)\n",
        "    # Remove Stop Words\n",
        "    user_input_nostops = remove_noise(user_input_tokenized)\n",
        "    # Reconstruct cleaned input for pattern matching (optional step)\n",
        "    cleaned_input = ' '.join(user_input_nostops)\n",
        "    # Process Query and Generate Response\n",
        "    chatbot_response = generate_response(user_input)  # Use original input for matching\n",
        "    # Append User Input to chat history\n",
        "    conversation_history.append(user_input)\n",
        "    # Print Response\n",
        "    print('Chatbot:', chatbot_response)\n"
      ],
      "metadata": {
        "colab": {
          "base_uri": "https://localhost:8080/"
        },
        "id": "Xnbn19CFVPR1",
        "outputId": "b11e12c1-c302-4c99-ec7e-82ff033b50f4"
      },
      "execution_count": 16,
      "outputs": [
        {
          "output_type": "stream",
          "name": "stderr",
          "text": [
            "[nltk_data] Downloading package punkt to /root/nltk_data...\n",
            "[nltk_data]   Package punkt is already up-to-date!\n",
            "[nltk_data] Downloading package stopwords to /root/nltk_data...\n",
            "[nltk_data]   Package stopwords is already up-to-date!\n"
          ]
        },
        {
          "output_type": "stream",
          "name": "stdout",
          "text": [
            "You: Can you tell me which blackhole is at the center of our galaxy?\n",
            "Chatbot: Please ask me another question\n",
            "You: which blackhole is at the center of galaxy\n",
            "Chatbot: Please ask me another question\n",
            "You: what are blackholes?\n",
            "Chatbot: A black hole is so dense that gravity just beneath its surface, the event horizon, is strong enough that nothing – not even light – can escape.\n",
            "You: which is your favourite color?\n",
            "Chatbot: I’m sorry, but I can’t answer that\n",
            "You: which is the blackhole at center of our galaxy?\n",
            "Chatbot: Please ask me another question\n",
            "You: which is the blackhole at the center of milky way!\n",
            "Chatbot: I’m sorry, but I can’t answer that\n",
            "You: bye\n",
            "Chatbot: Goodbye!\n"
          ]
        }
      ]
    }
  ]
}